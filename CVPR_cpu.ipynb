{
 "cells": [
  {
   "cell_type": "code",
   "execution_count": null,
   "id": "fad497ab-ea74-486b-8756-052063639e76",
   "metadata": {},
   "outputs": [],
   "source": [
    "!pip -q install huggingface_hub \n",
    "!huggingface-cli download badger-lord/embeddings2025 --repo-type dataset --local-dir ./embeddings2025 --quiet"
   ]
  },
  {
   "cell_type": "code",
   "execution_count": null,
   "id": "23f72547-5f8d-4980-a16f-71ead16368ce",
   "metadata": {},
   "outputs": [],
   "source": [
    "!pip -q install umap-learn"
   ]
  },
  {
   "cell_type": "code",
   "execution_count": null,
   "id": "c9035d2a-4849-4a8c-981e-df0574bfa9d1",
   "metadata": {},
   "outputs": [],
   "source": [
    "%%time\n",
    "import pandas as pd \n",
    "\n",
    "embeddings_df = pd.read_parquet('embeddings2025/embeddings.parquet')\n",
    "captions_df   = pd.read_parquet('embeddings2025/captions.parquet')"
   ]
  },
  {
   "cell_type": "code",
   "execution_count": null,
   "id": "0f1bbbfe-68e2-4c71-a956-60652d0fa07d",
   "metadata": {},
   "outputs": [],
   "source": [
    "X_embeddings=embeddings_df.values\n",
    "y_captions  = captions_df.values\n",
    "X_embeddings.shape"
   ]
  },
  {
   "cell_type": "code",
   "execution_count": null,
   "id": "a6189b77-6a80-4cd5-b28a-524383b4d123",
   "metadata": {},
   "outputs": [],
   "source": [
    "%%time\n",
    "\n",
    "from sklearn.cluster import KMeans\n",
    "# 1. Instantiate the model\n",
    "kmeans = KMeans(n_clusters=10, random_state=0, n_init='auto')\n",
    "\n",
    "# 2. Fit and predict cluster labels\n",
    "kmeans_labels = kmeans.fit_predict(X_embeddings)  \n",
    "\n",
    "# 3. Inspect results\n",
    "kmeans_centroids = kmeans.cluster_centers_\n",
    "print(\"Labels:\", kmeans_labels)\n",
    "print(\"Centroids:\", kmeans_centroids)\n",
    "\n",
    "# 10  clusters took 53.2seconds on Brev: data is (652671 x 768d)\n",
    "# 300 clusters took 21minutes 9 seconds on Brev. same data"
   ]
  },
  {
   "cell_type": "code",
   "execution_count": null,
   "id": "61d3ff3f-c7fd-41a1-9d24-a47d2e7c052c",
   "metadata": {},
   "outputs": [],
   "source": [
    "%%time\n",
    "from sklearn.decomposition import PCA\n",
    "\n",
    "# 1a. If X is a pandas DataFrame, convert to NumPy\n",
    "X_np = X_embeddings.values if hasattr(X_embeddings, \"values\") else X_embeddings\n",
    "\n",
    "# 1b. PCA to 50 components\n",
    "pca = PCA(n_components=10, random_state=42)\n",
    "X_reduced = pca.fit_transform(X_np)\n",
    "\n",
    "# took 3.57 seconds to do this 768d-> 10d"
   ]
  },
  {
   "cell_type": "code",
   "execution_count": null,
   "id": "9529da1a-63b4-4ebb-8657-b91b7dd2b1f2",
   "metadata": {},
   "outputs": [],
   "source": [
    "%%time\n",
    "\n",
    "from sklearn.cluster import KMeans\n",
    "# 1. Instantiate the model\n",
    "kmeans = KMeans(n_clusters=300, random_state=0, n_init='auto')\n",
    "\n",
    "# 2. Fit and predict cluster labels\n",
    "kmeans_labels_reduced = kmeans.fit_predict(X_reduced)  \n",
    "\n",
    "# 3. Inspect results\n",
    "kmeans_centroids = kmeans.cluster_centers_\n",
    "print(\"Labels:\", kmeans_labels_reduced)\n",
    "print(\"Centroids:\", kmeans_centroids)\n",
    "\n",
    "# 300 clusters took 1min 25s with data (652671 x 10d)\n",
    "# 300 clusters took 1min 51s with data (652671 x 50d)"
   ]
  },
  {
   "cell_type": "code",
   "execution_count": null,
   "id": "23b09cab-34f7-41c9-9b08-a3e445d7150f",
   "metadata": {},
   "outputs": [],
   "source": [
    "%%time\n",
    "\n",
    "import umap  # pip install umap-learn\n",
    "\n",
    "manifold = umap.UMAP(n_neighbors=30,min_dist=0.5).fit(X_reduced)\n",
    "X_reduced_umap = manifold.transform(X_reduced)\n",
    "\n",
    "# 2 components 30 neighbors min_dist=0.5 took 13 minutes 10s on (652671 x 50d)\n",
    "# 2 components 30 neighbors min_dist=0.5 took 12 minutes 6s on (652671 x 3d )\n",
    "# 2 components default umap parameters took (652671 x 3d )"
   ]
  },
  {
   "cell_type": "code",
   "execution_count": null,
   "id": "391efaa8-f113-4f62-9b80-61a6de104e6c",
   "metadata": {},
   "outputs": [],
   "source": [
    "%%time\n",
    "import umap  \n",
    "\n",
    "manifold = umap.UMAP(n_neighbors=30,min_dist=0.5,n_components=3).fit(X_np)\n",
    "X_reduced_umap = manifold.transform(X_np)\n",
    "\n",
    "# will not run on cpu"
   ]
  }
 ],
 "metadata": {
  "kernelspec": {
   "display_name": "RAPIDSai-24.08",
   "language": "python",
   "name": "rapidsai-24.08"
  },
  "language_info": {
   "codemirror_mode": {
    "name": "ipython",
    "version": 3
   },
   "file_extension": ".py",
   "mimetype": "text/x-python",
   "name": "python",
   "nbconvert_exporter": "python",
   "pygments_lexer": "ipython3",
   "version": "3.11.9"
  }
 },
 "nbformat": 4,
 "nbformat_minor": 5
}
