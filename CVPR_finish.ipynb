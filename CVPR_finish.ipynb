{
 "cells": [
  {
   "cell_type": "code",
   "execution_count": 1,
   "id": "52668bf7-db17-4654-830d-cf108fe779d7",
   "metadata": {},
   "outputs": [],
   "source": [
    "%load_ext cudf.pandas\n",
    "import pandas as pd\n",
    "import matplotlib.pyplot as plt\n",
    "from mpl_toolkits.mplot3d import Axes3D"
   ]
  },
  {
   "cell_type": "code",
   "execution_count": 2,
   "id": "45a74592-d9d7-4db3-93bd-a2c540857f7c",
   "metadata": {},
   "outputs": [
    {
     "name": "stdout",
     "output_type": "stream",
     "text": [
      "cuML: Installed accelerator for sklearn.\n",
      "cuML: Successfully initialized accelerator.\n"
     ]
    }
   ],
   "source": [
    "%load_ext cuml.accel\n",
    "from sklearn.cluster import KMeans\n",
    "from sklearn.decomposition import PCA"
   ]
  },
  {
   "cell_type": "code",
   "execution_count": 4,
   "id": "124bf94a-4193-445f-9d88-41ce39d20b72",
   "metadata": {},
   "outputs": [
    {
     "name": "stdout",
     "output_type": "stream",
     "text": [
      "CPU times: user 2.4 s, sys: 923 ms, total: 3.32 s\n",
      "Wall time: 1.59 s\n"
     ]
    }
   ],
   "source": [
    "%%time\n",
    "#read in the datasets\n",
    "embeddings_df = pd.read_parquet('embeddings2025/embeddings.parquet')\n",
    "captions_df   = pd.read_parquet('embeddings2025/captions.parquet')\n",
    "\n",
    "#took 6.9s dataset is 2.68G"
   ]
  },
  {
   "cell_type": "code",
   "execution_count": 5,
   "id": "493122f6-29bc-4ab1-aed0-406b40a7a351",
   "metadata": {},
   "outputs": [
    {
     "name": "stdout",
     "output_type": "stream",
     "text": [
      "(652671, 768)\n",
      "float32\n"
     ]
    }
   ],
   "source": [
    "# grab the embedding data \n",
    "X_embeddings=embeddings_df.values\n",
    "\n",
    "# check size of embeddings\n",
    "print(X_embeddings.shape)\n",
    "# what's the data type?\n",
    "print(X_embeddings.dtype)"
   ]
  },
  {
   "cell_type": "code",
   "execution_count": 6,
   "id": "1dfb5759-9718-41ab-9056-e480f9ce8117",
   "metadata": {},
   "outputs": [
    {
     "name": "stdout",
     "output_type": "stream",
     "text": [
      "Labels: [8 1 4 ... 2 3 0]\n",
      "CPU times: user 1.08 s, sys: 121 ms, total: 1.2 s\n",
      "Wall time: 1.27 s\n"
     ]
    }
   ],
   "source": [
    "%%time\n",
    "\n",
    "## KMeans on all the data\n",
    "# 1. Instantiate the model\n",
    "kmeans = KMeans(n_clusters=10, random_state=0, n_init='auto')\n",
    "\n",
    "# 2. Fit and predict cluster labels\n",
    "kmeans_labels = kmeans.fit_predict(X_embeddings)  \n",
    "\n",
    "# 3. Inspect results\n",
    "kmeans_centroids = kmeans.cluster_centers_\n",
    "print(\"Labels:\", kmeans_labels)\n",
    "\n",
    "# 10  clusters took 48.7s on Brev: data is (652671 x 768d)\n",
    "# 300 clusters took 21minutes 9s on Brev. same data"
   ]
  },
  {
   "cell_type": "code",
   "execution_count": 7,
   "id": "6a1337d7-b76b-4aa1-b6d6-40cf12ca7604",
   "metadata": {},
   "outputs": [
    {
     "name": "stdout",
     "output_type": "stream",
     "text": [
      "CPU times: user 2min, sys: 6.83 s, total: 2min 7s\n",
      "Wall time: 2min 7s\n"
     ]
    }
   ],
   "source": [
    "%%time\n",
    "\n",
    "from sklearn.manifold import TSNE\n",
    "\n",
    "# 1. Instantiate sklearn t-SNE\n",
    "tsne = TSNE(\n",
    "    n_components=2,          # target dimensionality\n",
    "    perplexity=30,           # neighbors considered in high-D space (5-50) default 30\n",
    "    learning_rate=200,       # typical: 10–1000 default 200\n",
    "    n_iter=1000,             # optimization steps\n",
    "    method='barnes_hut',     # fast approximation algorithm\n",
    "    random_state=42,         # for reproducible results\n",
    "    verbose=1                # show progress\n",
    ")\n",
    "\n",
    "# 2. Fit and transform with sklearn (CPU-based)\n",
    "X_tsne_sklearn = tsne.fit_transform(X_embeddings)  # returns a NumPy array\n",
    "\n"
   ]
  },
  {
   "cell_type": "code",
   "execution_count": null,
   "id": "22fc8dc4-058f-42a5-86ff-cdd740c2091a",
   "metadata": {},
   "outputs": [],
   "source": []
  }
 ],
 "metadata": {
  "kernelspec": {
   "display_name": "Python 3 (ipykernel)",
   "language": "python",
   "name": "python3"
  },
  "language_info": {
   "codemirror_mode": {
    "name": "ipython",
    "version": 3
   },
   "file_extension": ".py",
   "mimetype": "text/x-python",
   "name": "python",
   "nbconvert_exporter": "python",
   "pygments_lexer": "ipython3",
   "version": "3.12.9"
  }
 },
 "nbformat": 4,
 "nbformat_minor": 5
}
